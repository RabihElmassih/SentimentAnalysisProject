{
 "cells": [
  {
   "cell_type": "markdown",
   "metadata": {},
   "source": [
    "# SentimentAnalysisProject\n"
   ]
  },
  {
   "cell_type": "markdown",
   "metadata": {},
   "source": [
    "### Libaries"
   ]
  },
  {
   "cell_type": "code",
   "execution_count": 174,
   "metadata": {},
   "outputs": [],
   "source": [
    "# Libaries \n",
    "import numpy as np \n",
    "import matplotlib.pyplot as plt \n",
    "import seaborn as sns \n",
    "\n",
    "# To load the IMDB Reviews dataset\n",
    "from tensorflow.keras.datasets import imdb\n",
    "# Splitting data\n",
    "from sklearn.model_selection import train_test_split\n",
    "# For padding sequences\n",
    "from tensorflow.keras.preprocessing.sequence import pad_sequences \n",
    "\n",
    "# For creating the neural network model\n",
    "from tensorflow.keras.models import Sequential \n",
    "# For defining model layers\n",
    "from tensorflow.keras.layers import Embedding, Flatten, Dense"
   ]
  },
  {
   "cell_type": "markdown",
   "metadata": {},
   "source": [
    "### Dataset (IMDB Reviews from Tensorflow package "
   ]
  },
  {
   "cell_type": "code",
   "execution_count": 126,
   "metadata": {},
   "outputs": [
    {
     "name": "stdout",
     "output_type": "stream",
     "text": [
      "Training data shape: 42500\n",
      "Test data shape: 7500\n",
      "Sample training label: 1, 0\n",
      "Number of positive reviews: 21202\n",
      "Number of negative reviews: 21298\n",
      "Average review length (in words): 234.29428235294117\n",
      "Sample review (encoded as integers): [1, 13, 86, 219, 14, 22, 17, 6, 2343, 146, 150, 11, 61, 7239, 5, 28, 196, 1192, 12, 8, 30, 61, 514, 20, 4, 65, 9, 8149, 728, 209, 112, 3178, 4, 116, 262, 34, 4390, 5, 6605, 9, 351, 23, 5, 4, 192, 15, 5285, 3423, 9, 99, 154, 18, 27, 217, 152, 193, 245, 39, 4, 8212, 7, 27, 883, 19, 2, 7642, 937, 13, 264, 9, 4, 64, 678, 109, 11, 4, 22, 131, 581, 14, 100, 28, 679, 46, 8, 30, 160, 1208, 325, 2616, 21, 4, 229, 5, 177, 26, 331, 99, 52, 18, 15, 8, 593]\n"
     ]
    }
   ],
   "source": [
    "# Load imdb dataset\n",
    "# Selecting top x number of words via num_words to reduce complexity\n",
    "(x_train, y_train), (x_test, y_test) = imdb.load_data(num_words=10000) \n",
    "\n",
    "x_combined = np.concatenate([x_train, x_test])\n",
    "y_combined = np.concatenate([y_train, y_test])\n",
    "\n",
    "# Split into new train and test sets\n",
    "x_train, x_test, y_train, y_test = train_test_split(\n",
    "    x_combined, \n",
    "    y_combined, \n",
    "    test_size=0.15,  # 15% for testing\n",
    "    random_state=42\n",
    ")\n",
    "\n",
    "# Inspect the dataset structure\n",
    "print(f\"Training data shape: {len(x_train)}\\nTest data shape: {len(x_test)}\")\n",
    "print(f\"Sample training label: {y_train[0]}, {y_train[1]}\")\n",
    "print(f\"Number of positive reviews: {np.sum(y_train == 1)}\")\n",
    "print(f\"Number of negative reviews: {np.sum(y_train == 0)}\")\n",
    "print(f\"Average review length (in words): {np.mean([len(review) for review in x_train])}\")\n",
    "print(f\"Sample review (encoded as integers): {x_train[0]}\")\n",
    "# Training labels: 1 = Positive, 0 = Negative"
   ]
  },
  {
   "cell_type": "markdown",
   "metadata": {},
   "source": [
    "### Decoding a Review"
   ]
  },
  {
   "cell_type": "code",
   "execution_count": 127,
   "metadata": {},
   "outputs": [
    {
     "name": "stdout",
     "output_type": "stream",
     "text": [
      "Decoded review: <START> i first saw this film as a teenager i'm now in my 40's and have long considered it to be my favorite movie the story is enormously moving without being sentimental the acting especially by march and loy is dead on and the fact that dana andrews is too old for his role doesn't take away from the believability of his romance with <UNK> wright whom i believe is the only major character in the film still living this could have turned out to be another post war melodrama but the script and cast are simply too good for that to happen\n"
     ]
    }
   ],
   "source": [
    "word_index = imdb.get_word_index()\n",
    "\n",
    "# Add special tokens to the word index\n",
    "word_index = {k: (v + 3) for k, v in word_index.items()}\n",
    "word_index[\"<PAD>\"] = 0\n",
    "word_index[\"<START>\"] = 1\n",
    "word_index[\"<UNK>\"] = 2 \n",
    "word_index[\"<UNUSED>\"] = 3\n",
    "\n",
    "# Reverse word index to decode reviews\n",
    "reverse_word_index = {value: key for key, value in word_index.items()}\n",
    "\n",
    "# Decode a sample review\n",
    "decoded_review = \" \".join([reverse_word_index.get(i, \"?\") for i in x_train[0]])\n",
    "print(f\"Decoded review: {decoded_review}\")"
   ]
  },
  {
   "cell_type": "markdown",
   "metadata": {},
   "source": [
    "### Padding Sequence to ensure equal length of reviews"
   ]
  },
  {
   "cell_type": "code",
   "execution_count": 153,
   "metadata": {},
   "outputs": [
    {
     "name": "stdout",
     "output_type": "stream",
     "text": [
      "Padded training data shape: (42500, 1000)\n",
      "Padded test data shape: (7500, 1000)\n",
      "Sample padded review (first 150 words): [   1   12    9   96  724   72   89   14  229   16  126 2962   76  329\n",
      " 1055    5 7897    4  414   16   38   78   12   16 6853    4 1374    5\n",
      " 4411  139 1482    8   28   77  224   23 3174 4320   34  312  396 1537\n",
      " 3763 3643 5838  215   28 1599  467   27 2224   54   14   14   20   16\n",
      "  617   33    6 1955 2824   29   91 1329  317   34    4  145 1312    4\n",
      "   64 1426   12    2   11   72   16 2240   18    4  177   36   69    8\n",
      " 3925    4 3985    8   79  143   14   31   13  426  759    8  106   32\n",
      "    7   12   12   16   38  727   15   12   16  163   37  694  279   12\n",
      "   80   30 1637   56   34   31    7    4 8060   17    6  904  212    0\n",
      "    0    0    0    0    0    0    0    0    0    0    0    0    0    0\n",
      "    0    0    0    0    0    0    0    0    0    0]\n"
     ]
    }
   ],
   "source": [
    "# Length of a padded Sequence\n",
    "max_length = 1000\n",
    "\n",
    "# Pad the sequences\n",
    "x_train_padded = pad_sequences(x_train, maxlen=max_length, padding='post', truncating='post')\n",
    "x_test_padded = pad_sequences(x_test, maxlen=max_length, padding='post', truncating='post')\n",
    "\n",
    "# Check the shape of the padded data\n",
    "print(f\"Padded training data shape: {x_train_padded.shape}\")\n",
    "print(f\"Padded test data shape: {x_test_padded.shape}\")\n",
    "# A assortment of 0s added to the end to ensure all reviews are the same length\n",
    "print(f\"Sample padded review (first 150 words): {x_train_padded[2][:150]}\")"
   ]
  },
  {
   "cell_type": "markdown",
   "metadata": {},
   "source": [
    "### Building the Model"
   ]
  },
  {
   "cell_type": "code",
   "execution_count": 171,
   "metadata": {},
   "outputs": [],
   "source": [
    "# Build Model\n",
    "model = Sequential([ Embedding(input_dim = 10000, output_dim = 16, input_length = 1000),\n",
    "                   Flatten(),\n",
    "                   Dense(16, activation = 'relu'), # Relu HL\n",
    "                   Dense(1, activation = 'sigmoid') #binary classifier Sigmoid HL\n",
    "                   ])"
   ]
  },
  {
   "cell_type": "markdown",
   "metadata": {},
   "source": [
    "### Detemine weights of Model"
   ]
  },
  {
   "cell_type": "code",
   "execution_count": 172,
   "metadata": {},
   "outputs": [],
   "source": [
    "# Compile model to define weights\n",
    "model.compile(optimizer = 'adam', \n",
    "              loss='binary_crossentropy', \n",
    "              metrics=['accuracy'])"
   ]
  },
  {
   "cell_type": "markdown",
   "metadata": {},
   "source": [
    "### Train Model off training data"
   ]
  },
  {
   "cell_type": "code",
   "execution_count": 173,
   "metadata": {},
   "outputs": [
    {
     "name": "stdout",
     "output_type": "stream",
     "text": [
      "Train on 34000 samples, validate on 8500 samples\n",
      "Epoch 1/5\n",
      "34000/34000 [==============================] - 8s 233us/sample - loss: 0.6611 - accuracy: 0.6083 - val_loss: 0.5517 - val_accuracy: 0.7621\n",
      "Epoch 2/5\n",
      "34000/34000 [==============================] - 6s 169us/sample - loss: 0.3839 - accuracy: 0.8435 - val_loss: 0.3265 - val_accuracy: 0.8665\n",
      "Epoch 3/5\n",
      "34000/34000 [==============================] - 6s 163us/sample - loss: 0.2331 - accuracy: 0.9109 - val_loss: 0.2861 - val_accuracy: 0.8868\n",
      "Epoch 4/5\n",
      "34000/34000 [==============================] - 6s 169us/sample - loss: 0.1702 - accuracy: 0.9385 - val_loss: 0.2876 - val_accuracy: 0.8876\n",
      "Epoch 5/5\n",
      "34000/34000 [==============================] - 6s 175us/sample - loss: 0.1256 - accuracy: 0.9597 - val_loss: 0.3006 - val_accuracy: 0.8861\n"
     ]
    }
   ],
   "source": [
    "trained = model.fit(x_train_padded, y_train, epochs = 5, batch_size = 512, validation_split = 0.2 )"
   ]
  },
  {
   "cell_type": "markdown",
   "metadata": {},
   "source": [
    "### Model Figures"
   ]
  },
  {
   "cell_type": "code",
   "execution_count": 170,
   "metadata": {},
   "outputs": [
    {
     "data": {
      "image/png": "[encoded data removed]",
      "text/plain": [
       "<Figure size 864x360 with 2 Axes>"
      ]
     },
     "metadata": {
      "needs_background": "light"
     },
     "output_type": "display_data"
    },
    {
     "name": "stdout",
     "output_type": "stream",
     "text": [
      "Training Accuracy: 0.5716, 0.8066, 0.8969\n",
      "Validation Accuracy: 0.7087, 0.8614, 0.8859\n",
      "Training Loss: 0.6847, 0.4662, 0.2616\n",
      "Validation Loss: 0.6376, 0.3370, 0.2885\n"
     ]
    }
   ],
   "source": [
    "plt.figure(figsize=(12, 5))\n",
    "\n",
    "# Accuracy Plot\n",
    "plt.subplot(1, 2, 1)\n",
    "plt.plot(trained.history['accuracy'], label='Training Accuracy', marker = 'o')\n",
    "plt.plot(trained.history['val_accuracy'], label='Validation Accuracy', marker = 'o')\n",
    "plt.title('Model Accuracy')\n",
    "plt.xlabel('Epochs')\n",
    "plt.ylabel('Accuracy')\n",
    "plt.legend()\n",
    "\n",
    "plt.subplot(1, 2, 2)\n",
    "plt.plot(trained.history['loss'], label='Training Loss', marker = 'o')\n",
    "plt.plot(trained.history['val_loss'], label='Validation Loss', marker = 'o')\n",
    "plt.title('Model Loss')\n",
    "plt.xlabel('Epochs')\n",
    "plt.ylabel('Loss')\n",
    "plt.legend()\n",
    "\n",
    "plt.show()\n",
    "\n",
    "print(f\"Training Accuracy: {', '.join([f'{accuracy:.4f}' for accuracy in trained.history['accuracy']])}\")\n",
    "print(f\"Validation Accuracy: {', '.join([f'{accuracy:.4f}' for accuracy in trained.history['val_accuracy']])}\")\n",
    "print(f\"Training Loss: {', '.join([f'{loss:.4f}' for loss in trained.history['loss']])}\")\n",
    "print(f\"Validation Loss: {', '.join([f'{loss:.4f}' for loss in trained.history['val_loss']])}\")"
   ]
  },
  {
   "cell_type": "markdown",
   "metadata": {},
   "source": [
    "### evaluate model on test data"
   ]
  },
  {
   "cell_type": "code",
   "execution_count": 169,
   "metadata": {},
   "outputs": [
    {
     "name": "stdout",
     "output_type": "stream",
     "text": [
      "7500/7500 [==============================] - 1s 147us/sample - loss: 0.2814 - accuracy: 0.8899\n",
      "Test Loss: 0.2814\n",
      "Test Accuracy: 0.8899\n"
     ]
    }
   ],
   "source": [
    "test_lost, test_accuracy = model.evaluate(x_test_padded, y_test) \n",
    "print(f\"Test Loss: {test_lost:.4f}\")\n",
    "print(f\"Test Accuracy: {test_accuracy:.4f}\")"
   ]
  },
  {
   "cell_type": "code",
   "execution_count": null,
   "metadata": {},
   "outputs": [],
   "source": []
  }
 ],
 "metadata": {
  "kernelspec": {
   "display_name": "Python 3",
   "language": "python",
   "name": "python3"
  },
  "language_info": {
   "codemirror_mode": {
    "name": "ipython",
    "version": 3
   },
   "file_extension": ".py",
   "mimetype": "text/x-python",
   "name": "python",
   "nbconvert_exporter": "python",
   "pygments_lexer": "ipython3",
   "version": "3.6.10"
  }
 },
 "nbformat": 4,
 "nbformat_minor": 2
}
